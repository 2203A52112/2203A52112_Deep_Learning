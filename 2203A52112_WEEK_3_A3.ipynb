{
  "nbformat": 4,
  "nbformat_minor": 0,
  "metadata": {
    "colab": {
      "provenance": [],
      "authorship_tag": "ABX9TyNFKqbAwMPP1mPip7XkABVX",
      "include_colab_link": true
    },
    "kernelspec": {
      "name": "python3",
      "display_name": "Python 3"
    },
    "language_info": {
      "name": "python"
    }
  },
  "cells": [
    {
      "cell_type": "markdown",
      "metadata": {
        "id": "view-in-github",
        "colab_type": "text"
      },
      "source": [
        "<a href=\"https://colab.research.google.com/github/2203A52112/2203A52112_Deep_Learning/blob/main/2203A52112_WEEK_3_A3.ipynb\" target=\"_parent\"><img src=\"https://colab.research.google.com/assets/colab-badge.svg\" alt=\"Open In Colab\"/></a>"
      ]
    },
    {
      "cell_type": "code",
      "execution_count": 9,
      "metadata": {
        "colab": {
          "base_uri": "https://localhost:8080/"
        },
        "id": "oFXg2uaUZJU5",
        "outputId": "2c1f37cd-5e15-4c64-9e06-2fc167e66e15"
      },
      "outputs": [
        {
          "output_type": "stream",
          "name": "stdout",
          "text": [
            "Minimum value of f(x) is approximately 10.000000082781012 at x = 0.00016611342433814265 after 1341 iterations.\n"
          ]
        }
      ],
      "source": [
        "def f(x):\n",
        "    return 5 * x**4 + 3 * x**2 + 10 # Changed x*4 and x*2 to x**4 and x**2 for exponentiation\n",
        "\n",
        "def f_prime(x):\n",
        "    return 20 * x**3 + 6 * x\n",
        "\n",
        "def gradient_descent_without_libs(initial_x, learning_rate, tolerance, max_iterations):\n",
        "    x = initial_x\n",
        "    iteration = 0\n",
        "    while iteration < max_iterations:\n",
        "        grad = f_prime(x)\n",
        "        new_x = x - learning_rate * grad\n",
        "        if abs(new_x - x) < tolerance:\n",
        "            break\n",
        "        x = new_x\n",
        "        iteration += 1\n",
        "    return x, f(x), iteration\n",
        "\n",
        "import random # Added import statement for random\n",
        "initial_x = random.uniform(-10, 10)\n",
        "learning_rate = 0.001 # Reduced learning rate to 0.001\n",
        "tolerance = 1e-6\n",
        "max_iterations = 10000\n",
        "\n",
        "min_x, min_f, iterations = gradient_descent_without_libs(initial_x, learning_rate, tolerance, max_iterations)\n",
        "print(f\"Minimum value of f(x) is approximately {min_f} at x = {min_x} after {iterations} iterations.\")"
      ]
    },
    {
      "cell_type": "code",
      "source": [
        "def g(x, y):\n",
        "    return 3 * x*2 + 5 * (2.71828*(-y)) + 10\n",
        "def g_prime_x(x, y):\n",
        "    return 6 * x\n",
        "def g_prime_y(x, y):\n",
        "    return -5 * (2.71828**(-y))\n",
        "def gradient_descent_without_libs(initial_x, initial_y, learning_rate, tolerance, max_iterations):\n",
        "    x, y = initial_x, initial_y\n",
        "    iteration = 0\n",
        "    while iteration < max_iterations:\n",
        "        grad_x = g_prime_x(x, y)\n",
        "        grad_y = g_prime_y(x, y)\n",
        "        new_x = x - learning_rate * grad_x\n",
        "        new_y = y - learning_rate * grad_y\n",
        "        if abs(new_x - x) < tolerance and abs(new_y - y) < tolerance:\n",
        "            break\n",
        "        x, y = new_x, new_y\n",
        "        iteration += 1\n",
        "    return x, y, g(x, y), iteration\n",
        "initial_x = random.uniform(-10,10)\n",
        "initial_y = random.uniform(-10,10)\n",
        "learning_rate = 0.01\n",
        "tolerance = 1e-6\n",
        "max_iterations = 10000\n",
        "min_x, min_y, min_g, iterations = gradient_descent_without_libs(initial_x, initial_y, learning_rate, tolerance, max_iterations)\n",
        "print(f\"Minimum value of g(x, y) is approximately {min_g} at x = {min_x}, y = {min_y} after {iterations} iterations.\")"
      ],
      "metadata": {
        "colab": {
          "base_uri": "https://localhost:8080/"
        },
        "id": "A8l6axMdZ91b",
        "outputId": "299e45b9-0f9d-433e-fbd0-4cb102e35dad"
      },
      "execution_count": 10,
      "outputs": [
        {
          "output_type": "stream",
          "name": "stdout",
          "text": [
            "Minimum value of g(x, y) is approximately -74.84243627450877 at x = 1.1938477985619357e-268, y = 6.242361807798223 after 10000 iterations.\n"
          ]
        }
      ]
    },
    {
      "cell_type": "code",
      "source": [
        "def z(x):\n",
        "    return 1 / (1 + 2.71828**(-x))\n",
        "def z_prime(x):\n",
        "    sigmoid = z(x)\n",
        "    return sigmoid * (1 - sigmoid)\n",
        "def gradient_descent_without_libs(initial_x, learning_rate, tolerance, max_iterations):\n",
        "    x = initial_x\n",
        "    iteration = 0\n",
        "    while iteration < max_iterations:\n",
        "        grad = z_prime(x)\n",
        "        new_x = x - learning_rate * grad\n",
        "        if abs(new_x - x) < tolerance:\n",
        "            break\n",
        "        x = new_x\n",
        "        iteration += 1\n",
        "    return x, z_prime(x), iteration\n",
        "initial_x = random.uniform(-10,10)\n",
        "learning_rate = 0.01\n",
        "tolerance = 1e-6\n",
        "max_iterations = 10000\n",
        "min_x, min_z_prime, iterations = gradient_descent_without_libs(initial_x, learning_rate, tolerance, max_iterations)\n",
        "print(f\"Minimum value of z'(x) is approximately {min_z_prime} at x = {min_x} after {iterations} iterations.\")"
      ],
      "metadata": {
        "colab": {
          "base_uri": "https://localhost:8080/"
        },
        "id": "dGzhTPJFZ_df",
        "outputId": "5e901475-08ee-4c5e-b559-a99d4a48d0cf"
      },
      "execution_count": 11,
      "outputs": [
        {
          "output_type": "stream",
          "name": "stdout",
          "text": [
            "Minimum value of z'(x) is approximately 0.000672683919990509 at x = -7.302893181831419 after 10000 iterations.\n"
          ]
        }
      ]
    },
    {
      "cell_type": "code",
      "source": [
        "import numpy as np\n",
        "def g(x, y):\n",
        "    return 3 * x**2 + 5 * np.exp(-y) + 10\n",
        "def g_prime_x(x, y):\n",
        "    return 6 * x\n",
        "def g_prime_y(x, y):\n",
        "    return -5 * np.exp(-y)\n",
        "def gradient_descent_with_libs(initial_x, initial_y, learning_rate, tolerance, max_iterations):\n",
        "    x, y = initial_x, initial_y\n",
        "    for iteration in range(max_iterations):\n",
        "        grad_x = g_prime_x(x, y)\n",
        "        grad_y = g_prime_y(x, y)\n",
        "        new_x = x - learning_rate * grad_x\n",
        "        new_y = y - learning_rate * grad_y\n",
        "        if np.abs(new_x - x) < tolerance and np.abs(new_y - y) < tolerance:\n",
        "            break\n",
        "        x, y = new_x, new_y\n",
        "    return x, y, g(x, y), iteration + 1\n",
        "initial_x = random.uniform(-10,10)\n",
        "initial_y = random.uniform(-10,10)\n",
        "learning_rate = 0.01\n",
        "tolerance = 1e-6\n",
        "max_iterations = 10000\n",
        "min_x, min_y, min_g, iterations = gradient_descent_with_libs(initial_x, initial_y, learning_rate, tolerance, max_iterations)\n",
        "print(f\"Minimum value of g(x, y) is approximately {min_g} at x = {min_x}, y = {min_y} after {iterations} iterations.\")"
      ],
      "metadata": {
        "colab": {
          "base_uri": "https://localhost:8080/"
        },
        "id": "YpHPQiQ_aCWM",
        "outputId": "5c5724e1-0055-44d2-de68-acfb0914d9b1"
      },
      "execution_count": 12,
      "outputs": [
        {
          "output_type": "stream",
          "name": "stdout",
          "text": [
            "Minimum value of g(x, y) is approximately 10.009622830756307 at x = 1.4507607197418438e-268, y = 6.253054712611426 after 10000 iterations.\n"
          ]
        }
      ]
    },
    {
      "cell_type": "code",
      "source": [
        "import random\n",
        "M = random.uniform(-10, 10)\n",
        "C = random.uniform(-10, 10)\n",
        "x = 2\n",
        "y = 0.5\n",
        "alpha = 0.1\n",
        "\n",
        "for i in range(100):\n",
        "    y_p = M * x + C\n",
        "\n",
        "    dM = -2 * x * (y - y_p)\n",
        "    dC = -2 * (y - y_p)\n",
        "\n",
        "     # Update parameters\n",
        "    M = M - alpha * dM\n",
        "    C = C - alpha * dC\n",
        "\n",
        "print(f\"M: {M}\")\n",
        "print(f\"C: {C}\")"
      ],
      "metadata": {
        "colab": {
          "base_uri": "https://localhost:8080/"
        },
        "id": "SUq2BHmBaEwC",
        "outputId": "78ebef67-6208-47eb-8cc2-01703de44b25"
      },
      "execution_count": 13,
      "outputs": [
        {
          "output_type": "stream",
          "name": "stdout",
          "text": [
            "M: -1.3182150722543209\n",
            "C: 3.1364301445086418\n"
          ]
        }
      ]
    }
  ]
}